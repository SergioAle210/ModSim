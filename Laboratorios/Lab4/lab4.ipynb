{
 "cells": [
  {
   "cell_type": "markdown",
   "id": "823c62f0",
   "metadata": {},
   "source": [
    "# Integrantes\n",
    "\n",
    "- Sergio Orellana 221122\n",
    "- Rodrigo Mansilla 22611\n",
    "- Carlos Valladares 221164"
   ]
  },
  {
   "cell_type": "markdown",
   "id": "4a7f9971",
   "metadata": {},
   "source": [
    "# Ejercicio 1\n",
    "\n",
    "## Simulación de tiempo discreto (síncrona) vs. tiempo continuo (asíncrona)\n",
    "\n",
    "- **Tiempo discreto (síncrona)**: yo actualizo el estado del sistema en pasos fijos (ticks) con un reloj global, de modo que todos los componentes se actualizan “a la vez” en cada paso. Esto es análogo a trabajar con señales muestreadas y diferencia-ecuaciones en control digital. \n",
    "\n",
    "- **Tiempo continuo (asíncrona)**: yo permito cambios en cualquier instante real; típicamente lo implemento como simulación dirigida por eventos que “salta” al próximo evento en una cola de eventos, sin pasos fijos. (En marcos como SimPy, los procesos se programan con env.timeout y el motor avanza al siguiente evento).\n",
    "\n",
    "**(a) ¿Cuándo prefiero cada una?**\n",
    "Prefiero tiempo discreto (síncrona) cuando:\n",
    "- El fenómeno ya está muestreado por naturaleza (p. ej., control digital, DSP, comunicaciones digitales). \n",
    "- Necesito simplicidad y determinismo (flujo secuencial más fácil de razonar y depurar). \n",
    "\n",
    "Prefiero tiempo continuo (asíncrona) cuando:\n",
    "- El timing exacto de los sucesos importa (colas/redes, tráfico, servicios), porque el motor salta entre eventos sin simular “tiempo vacío”. \n",
    "- Busco escala y capacidad de respuesta en sistemas dirigidos por eventos o procesamiento asíncrono. \n",
    "\n",
    "**(b) Compensaciones computacionales (velocidad vs. precisión)**\n",
    "- **Discreto/síncrona:** suele ser más rápida por implementación y más simple de depurar, pero su precisión depende del tamaño del paso (riesgo de aliasing/artefactos si el paso es grande). \n",
    "- **Continuo/asíncrona:** logra mejor precisión temporal (eventos en el instante exacto) y puede ser eficiente al evitar pasos donde nada ocurre; a cambio, incrementa la complejidad (concurrencia, manejo de callbacks/eventos, depuración)."
   ]
  },
  {
   "cell_type": "markdown",
   "id": "37a5f3fb",
   "metadata": {},
   "source": [
    "## Mecanismos de gestión de eventos\n",
    "**(a) ¿Cómo gestionan los cambios de estado las colas de eventos?**\n",
    "\n",
    "Cuando modelo de forma asíncrona, mantengo una cola de eventos con elementos del tipo (tiempo, tipo, datos). El ciclo de simulación hace:\n",
    "\n",
    "- Extraer el siguiente evento (el de menor marca de tiempo).\n",
    "- Avanzar el reloj de simulación a ese instante.\n",
    "- Aplicar las transiciones de estado y programar nuevos eventos (insertarlos en la cola).\n",
    "\n",
    "Este patrón aparece tanto en frameworks de simulación (p. ej., SimPy con procesos/env.timeout) como en bucles de eventos (JS: el event loop despacha tareas desde la event queue cuando la pila está libre). \n",
    "\n",
    "En arquitectura de sistemas, las message queues/colas de mensajes permiten desacoplar productores y consumidores de eventos, reforzando la idea de que los cambios de estado se encolan y se procesan sin bloquear el flujo principal\n",
    "\n",
    "**(b) Gestión de prioridades para eventos concurrentes**\n",
    "\n",
    "Para resolver eventos “al mismo tiempo” o con diferentes importancias, utilizo una cola de prioridad (típicamente un binary heap), donde sale primero el evento de mayor prioridad (o menor tiempo y, si hay empates, un criterio secundario). Las operaciones de insertar y extraer tienen costo O(log n), lo que mantiene eficiente el motor de simulación. Además, las simulaciones dirigidas por eventos son un caso de uso clásico de colas de prioridad. \n",
    "\n",
    "Como ejemplo de priorización de colas en un bucle de eventos, en JavaScript existen microtareas que se procesan antes de las tareas normales, mostrando cómo la política de prioridad afecta qué se ejecuta primero cuando hay concurrencia.\n",
    "\n"
   ]
  },
  {
   "cell_type": "markdown",
   "id": "7d7e94d1",
   "metadata": {},
   "source": [
    "# Referencias\n",
    "\n",
    "- GeeksforGeeks. (2024, February 27). Continuous time and discrete time control systems. GeeksforGeeks. https://www.geeksforgeeks.org/electrical-engineering/continuous-time-and-discrete-time-control-systems/\n",
    "- GeeksforGeeks. (2024b, May 31). Synchronous and asynchronous programming. GeeksforGeeks. https://www.geeksforgeeks.org/javascript/synchronous-and-asynchronous-programming/\n",
    "- GeeksforGeeks. (2020, November 19). Basics of Discrete Event Simulation using SimPy. GeeksforGeeks. https://www.geeksforgeeks.org/python/basics-of-discrete-event-simulation-using-simpy/\n",
    "- GeeksforGeeks. (2025, July 23). EventDriven Architecture System design. GeeksforGeeks. https://www.geeksforgeeks.org/system-design/event-driven-architecture-system-design\n",
    "- GeeksforGeeks. (2025a, July 23). Asynchronous processing in system design. GeeksforGeeks. https://www.geeksforgeeks.org/system-design/asynchronous-processing-in-system-design/\n",
    "- GeeksforGeeks. (2025c, August 5). Event queue in JavaScript. GeeksforGeeks. https://www.geeksforgeeks.org/javascript/event-queue-in-javascript\n",
    "- GeeksforGeeks. (2025d, August 7). Message queues system design. GeeksforGeeks. https://www.geeksforgeeks.org/system-design/message-queues-system-design\n",
    "- GeeksforGeeks. (2025c, July 23). What is Priority Queue | Introduction to Priority Queue. GeeksforGeeks. https://www.geeksforgeeks.org/dsa/priority-queue-set-1-introduction/\n",
    "- GeeksforGeeks. (2025a, July 23). Applications of priority queue. GeeksforGeeks. https://www.geeksforgeeks.org/dsa/applications-priority-queue/\n",
    "- GeeksforGeeks. (2023, January 25). What are the microtask and macrotask within an event loop in JavaScript ? GeeksforGeeks. https://www.geeksforgeeks.org/javascript/what-are-the-microtask-and-macrotask-within-an-event-loop-in-javascript/"
   ]
  }
 ],
 "metadata": {
  "language_info": {
   "name": "python"
  }
 },
 "nbformat": 4,
 "nbformat_minor": 5
}
