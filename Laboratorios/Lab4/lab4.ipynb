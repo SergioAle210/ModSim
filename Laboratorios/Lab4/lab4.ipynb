{
 "cells": [
  {
   "cell_type": "markdown",
   "id": "823c62f0",
   "metadata": {},
   "source": [
    "# Integrantes\n",
    "\n",
    "- Sergio Orellana 221122\n",
    "- Rodrigo Mansilla 22611\n",
    "- Carlos Valladares 221164"
   ]
  }
 ],
 "metadata": {
  "language_info": {
   "name": "python"
  }
 },
 "nbformat": 4,
 "nbformat_minor": 5
}
