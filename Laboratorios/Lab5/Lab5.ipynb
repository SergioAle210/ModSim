{
 "cells": [
  {
   "cell_type": "markdown",
   "id": "6d5ab3db",
   "metadata": {},
   "source": [
    "# Laboratorio 5\n",
    "\n",
    "## Integrantes\n",
    "\n",
    "- Sergio Orellana 221122\n",
    "- Rodrigo Mansilla 22611\n",
    "- Carlos Valladares 221164"
   ]
  },
  {
   "cell_type": "markdown",
   "id": "a7a816c6",
   "metadata": {},
   "source": [
    "# Teoría\n",
    "\n",
    "1. "
   ]
  }
 ],
 "metadata": {
  "language_info": {
   "name": "python"
  }
 },
 "nbformat": 4,
 "nbformat_minor": 5
}
