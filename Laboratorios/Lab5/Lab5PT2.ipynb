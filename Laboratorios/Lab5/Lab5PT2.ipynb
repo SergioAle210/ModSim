{
 "cells": [
  {
   "cell_type": "markdown",
   "id": "f13d0e27",
   "metadata": {},
   "source": [
    "# Laboratorio 5\n",
    "\n",
    "## Integrantes\n",
    "\n",
    "- Sergio Orellana 221122\n",
    "- Rodrigo Mansilla 22611\n",
    "- Carlos Valladares 221164"
   ]
  },
  {
   "cell_type": "markdown",
   "id": "c49f9c93",
   "metadata": {},
   "source": [
    "## Teoría\n",
    "\n",
    "**Responda de forma detallada a cada pregunta.** Use ejemplos, defina conceptos clave y cite supuestos del modelo cuando corresponda.\n",
    "\n",
    "---\n",
    "\n",
    "### 1) Vulnerabilidad en redes: aeropuertos (libre de escala) vs. alcantarillado (retículo / mundo pequeño)\n",
    "\n",
    "**Enunciado.**  \n",
    "Usted es un analista de infraestructura crítica encargado de evaluar dos sistemas:\n",
    "- **Red nacional de aeropuertos** (se aproxima a un **modelo libre de escala**).\n",
    "- **Red de alcantarillado de una ciudad** (se aproxima a un **retículo** o **red de mundo pequeño con pocas conexiones largas**).\n",
    "\n",
    "**Preguntas.**  \n",
    "- ¿Cuál de las dos redes es **más vulnerable a fallos aleatorios** (p. ej., una tubería se rompe al azar o un aeropuerto pequeño cierra por mal tiempo)?  \n",
    "- ¿Y cuál es **más vulnerable a ataques dirigidos** (p. ej., un ataque coordinado a los 5 aeropuertos más grandes o a las 5 estaciones de bombeo principales)?  \n",
    "- Justifique su respuesta basándose en la **distribución de grado** y la **presencia de hubs** en cada modelo.\n",
    "\n",
    "**Respuesta:**\n",
    "\n",
    "---\n",
    "\n",
    "### 2) Supuestos del modelo de Barabási–Albert (BA) y contraejemplo del mundo real\n",
    "\n",
    "**Enunciado.**  \n",
    "El modelo BA asume:  \n",
    "1) **Crecimiento** de la red.  \n",
    "2) **Preferential attachment**: los nuevos nodos se conectan con preferencia a los nodos más conectados.\n",
    "\n",
    "**Preguntas.**  \n",
    "- Describa un ejemplo de una **red del mundo real** donde **al menos una** de estas dos suposiciones **no se cumpla**.  \n",
    "- Explique por qué **BA** sería **inadecuado** para representar esa red.\n",
    "\n",
    "**Respuesta:**\n",
    "\n",
    "---\n",
    "\n",
    "### 3) Modelo de Watts–Strogatz (WS): efecto del parámetro de recableado \\( p \\)\n",
    "\n",
    "**Enunciado.**  \n",
    "En WS, el parámetro \\( p \\) sintoniza la red entre **orden** (\\( p=0 \\)) y **aleatoriedad** (\\( p=1 \\)).\n",
    "\n",
    "**Preguntas.**  \n",
    "- Describa qué sucede con el **coeficiente de agrupamiento promedio** y la **longitud de camino promedio** a medida que \\( p \\) varía de **0** a **1**.  \n",
    "- ¿Por qué un \\( p \\) **muy pequeño** (p. ej., **0.01**) **reduce drásticamente** la longitud del camino promedio **sin destruir el agrupamiento local**?\n",
    "\n",
    "**Respuesta:**\n",
    "\n",
    "---\n",
    "\n",
    "### 4) Red social (Facebook/Instagram): comunidades + hubs\n",
    "\n",
    "**Enunciado.**  \n",
    "Las amistades en redes sociales muestran:\n",
    "- **Comunidades** muy unidas (universidad, trabajo) → **mundo pequeño**.  \n",
    "- **Influencers/celebridades** con millones de conexiones → **libre de escala** (hubs).\n",
    "\n",
    "**Pregunta.**  \n",
    "- ¿Cómo podría un **modelo de simulación** capturar **ambas propiedades**?  \n",
    "- Proponga una **regla generativa conceptual** (no necesita código) para construir una\n"
   ]
  },
  {
   "cell_type": "markdown",
   "id": "552c061d",
   "metadata": {},
   "source": []
  }
 ],
 "metadata": {
  "language_info": {
   "name": "python"
  }
 },
 "nbformat": 4,
 "nbformat_minor": 5
}
