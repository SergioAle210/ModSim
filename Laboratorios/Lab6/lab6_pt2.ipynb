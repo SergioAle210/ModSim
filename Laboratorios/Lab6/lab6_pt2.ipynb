{
 "cells": [
  {
   "cell_type": "markdown",
   "id": "e82070d9",
   "metadata": {},
   "source": [
    "# Laboratorio 6 - Parte 2\n",
    "\n",
    "## Integrantes\n",
    "\n",
    "- Sergio Orellana 221122\n",
    "- Rodrigo Mansilla 22611\n",
    "- Carlos Valladares 221164"
   ]
  }
 ],
 "metadata": {
  "language_info": {
   "name": "python"
  }
 },
 "nbformat": 4,
 "nbformat_minor": 5
}
