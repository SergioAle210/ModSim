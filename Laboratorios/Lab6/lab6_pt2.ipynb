{
  "cells": [
    {
      "cell_type": "markdown",
      "id": "e82070d9",
      "metadata": {
        "id": "e82070d9"
      },
      "source": [
        "# Laboratorio 6 - Parte 2\n",
        "\n",
        "## Integrantes\n",
        "\n",
        "- Sergio Orellana 221122\n",
        "- Rodrigo Mansilla 22611\n",
        "- Carlos Valladares 221164"
      ]
    },
    {
      "cell_type": "markdown",
      "id": "d3e8ca50",
      "metadata": {
        "id": "d3e8ca50"
      },
      "source": [
        "# Práctica"
      ]
    },
    {
      "cell_type": "markdown",
      "id": "bc09fc9f",
      "metadata": {
        "id": "bc09fc9f"
      },
      "source": [
        "## Modelo Simbólico y calculo de Jacobiano"
      ]
    },
    {
      "cell_type": "markdown",
      "id": "367d792e",
      "metadata": {},
      "source": [
        "Se definen las ecuaciones:\n",
        "\n",
        "$$\n",
        "\\begin{align*}\n",
        "\\frac{dS}{dt} = \\mu N - \\beta S I - \\mu S \\\\\n",
        "\\frac{dI}{dt} = \\beta S I - \\gamma I - \\mu I\n",
        "\\end{align*}\n",
        "$$\n",
        "\n",
        "A partir de estas expresiones se construye el **Jacobiano**, una matriz que describe cómo pequeños cambios en $S$ e $I$ afectan la dinámica del sistemas."
      ]
    },
    {
      "cell_type": "code",
      "execution_count": 2,
      "id": "2417bb05",
      "metadata": {
        "colab": {
          "base_uri": "https://localhost:8080/",
          "height": 76
        },
        "id": "2417bb05",
        "outputId": "8d869e17-5248-4e40-bd18-18ce8e7d65ca"
      },
      "outputs": [
        {
          "name": "stdout",
          "output_type": "stream",
          "text": [
            "Matriz Jacobiana simbólica:\n"
          ]
        },
        {
          "data": {
            "text/latex": [
              "$\\displaystyle \\left[\\begin{matrix}- I \\beta - \\mu & - S \\beta\\\\I \\beta & S \\beta - \\gamma - \\mu\\end{matrix}\\right]$"
            ],
            "text/plain": [
              "Matrix([\n",
              "[-I*beta - mu,             -S*beta],\n",
              "[      I*beta, S*beta - gamma - mu]])"
            ]
          },
          "metadata": {},
          "output_type": "display_data"
        }
      ],
      "source": [
        "import sympy as sp\n",
        "import numpy as np\n",
        "\n",
        "S, I, beta, gamma, mu, N = sp.symbols('S I beta gamma mu N', positive=True)\n",
        "\n",
        "dSdt = mu*N - beta*S*I - mu*S\n",
        "dIdt = beta*S*I - gamma*I - mu*I\n",
        "\n",
        "eqs = sp.Matrix([dSdt, dIdt])\n",
        "vars = sp.Matrix([S, I])\n",
        "\n",
        "J = eqs.jacobian(vars)\n",
        "print(\"Matriz Jacobiana simbólica:\")\n",
        "display(J)\n"
      ]
    },
    {
      "cell_type": "markdown",
      "id": "cNWWpAobB2TC",
      "metadata": {
        "id": "cNWWpAobB2TC"
      },
      "source": [
        "## Autovalores simbólicos en el Equilibrio Libre de Enfermedad"
      ]
    },
    {
      "cell_type": "markdown",
      "id": "1476c281",
      "metadata": {},
      "source": [
        "\n",
        "Se sustituye este punto en el Jacobiano simbólico y se calculan sus **autovalores**.  Estos autovalores indican si pequeñas perturbaciones alrededor del ELE crecen o se atenúan con el tiempo:\n",
        "\n",
        "- Si todos los autovalores tienen parte real **negativa**, el equilibrio es **estable** .  \n",
        "- Si alguno tiene parte real **positiva**, el equilibrio es **inestable** .\n"
      ]
    },
    {
      "cell_type": "code",
      "execution_count": 3,
      "id": "qw1yw6pBCUG0",
      "metadata": {
        "colab": {
          "base_uri": "https://localhost:8080/",
          "height": 53
        },
        "id": "qw1yw6pBCUG0",
        "outputId": "062dceab-55fb-4ffc-e3cd-9c22bbecb222"
      },
      "outputs": [
        {
          "name": "stdout",
          "output_type": "stream",
          "text": [
            "Autovalores simbólicos del ELE:\n"
          ]
        },
        {
          "data": {
            "text/plain": [
              "{N*beta - gamma - mu: 1, -mu: 1}"
            ]
          },
          "metadata": {},
          "output_type": "display_data"
        }
      ],
      "source": [
        "J_ELE = J.subs({S: N, I: 0})\n",
        "\n",
        "eigs_ELE = J_ELE.eigenvals()\n",
        "print(\"Autovalores simbólicos del ELE:\")\n",
        "display(eigs_ELE)\n"
      ]
    },
    {
      "cell_type": "markdown",
      "id": "E69oq5JwB5ck",
      "metadata": {
        "id": "E69oq5JwB5ck"
      },
      "source": [
        "##"
      ]
    },
    {
      "cell_type": "markdown",
      "id": "NQs2PLeVCXz6",
      "metadata": {
        "id": "NQs2PLeVCXz6"
      },
      "source": [
        "## Sustituir parámetros y calcular el Equilibrio Endémico"
      ]
    },
    {
      "cell_type": "markdown",
      "id": "e448d9a3",
      "metadata": {},
      "source": [
        "Se sustituyen los valores numéricos de los parámetros obtenidos."
      ]
    },
    {
      "cell_type": "code",
      "execution_count": 4,
      "id": "X-Uwve7CCa7Q",
      "metadata": {
        "colab": {
          "base_uri": "https://localhost:8080/"
        },
        "id": "X-Uwve7CCa7Q",
        "outputId": "09b02216-0711-4f5c-f269-a7fc21c52207"
      },
      "outputs": [
        {
          "data": {
            "text/plain": [
              "(240.0, 126.66666666666667)"
            ]
          },
          "execution_count": 4,
          "metadata": {},
          "output_type": "execute_result"
        }
      ],
      "source": [
        "params = {\n",
        "    beta: 0.5 / 1000,\n",
        "    gamma: 0.1,\n",
        "    mu: 0.02,\n",
        "    N: 1000\n",
        "}\n",
        "\n",
        "S_end = (params[gamma] + params[mu]) / params[beta]\n",
        "I_end = params[mu] * (params[N] - S_end) / (params[gamma] + params[mu])\n",
        "(S_end, I_end)\n"
      ]
    },
    {
      "cell_type": "markdown",
      "id": "FmxHC921Ce0g",
      "metadata": {
        "id": "FmxHC921Ce0g"
      },
      "source": [
        "## Jacobiano numérico en el Equilibrio Endémico"
      ]
    },
    {
      "cell_type": "markdown",
      "id": "b1f8b05b",
      "metadata": {},
      "source": [
        "Se sustituye en el Jacobiano simbólico tanto los parámetros numéricos como las coordenadas del equilibrio endémico $(S^*, I^*)$  Esto produce una **matriz 2x2**, que describe el comportamiento local del sistema alrededor del punto endémico.\n"
      ]
    },
    {
      "cell_type": "code",
      "execution_count": 5,
      "id": "qiqZMykMCf8S",
      "metadata": {
        "colab": {
          "base_uri": "https://localhost:8080/"
        },
        "id": "qiqZMykMCf8S",
        "outputId": "fe1be42d-018e-4f42-891c-746410ff011a"
      },
      "outputs": [
        {
          "name": "stdout",
          "output_type": "stream",
          "text": [
            "Jacobiano numérico evaluado en el equilibrio endémico:\n",
            "[[-8.33333333e-02 -1.20000000e-01]\n",
            " [ 6.33333333e-02 -1.38777878e-17]]\n"
          ]
        }
      ],
      "source": [
        "J_endemic = J.subs(params).subs({S: S_end, I: I_end})\n",
        "\n",
        "J_num = np.array(J_endemic.tolist()).astype(np.float64)\n",
        "print(\"Jacobiano numérico evaluado en el equilibrio endémico:\")\n",
        "print(J_num)\n"
      ]
    },
    {
      "cell_type": "markdown",
      "id": "5KIjBgTAClEr",
      "metadata": {
        "id": "5KIjBgTAClEr"
      },
      "source": [
        "## Autovalores numéricos del equilibrio endémico"
      ]
    },
    {
      "cell_type": "markdown",
      "id": "0cbd7b4f",
      "metadata": {},
      "source": [
        "Con la matriz Jacobiana numérica, se calculan los **autovalores**.\n",
        "En la simulación, los autovalores presentan partes reales negativas,confirmando que el equilibrio endémico es estable."
      ]
    },
    {
      "cell_type": "code",
      "execution_count": 6,
      "id": "lMnExrCuCqTs",
      "metadata": {
        "colab": {
          "base_uri": "https://localhost:8080/"
        },
        "id": "lMnExrCuCqTs",
        "outputId": "38aba780-f1de-4997-818c-1dc662b43369"
      },
      "outputs": [
        {
          "name": "stdout",
          "output_type": "stream",
          "text": [
            "Autovalores numéricos del equilibrio endémico:\n",
            "[-0.04166667+0.07657603j -0.04166667-0.07657603j]\n"
          ]
        }
      ],
      "source": [
        "eigvals_endemic = np.linalg.eigvals(J_num)\n",
        "print(\"Autovalores numéricos del equilibrio endémico:\")\n",
        "print(eigvals_endemic)\n"
      ]
    },
    {
      "cell_type": "markdown",
      "id": "5bb9fa8c",
      "metadata": {},
      "source": [
        "## Analisis"
      ]
    },
    {
      "cell_type": "markdown",
      "id": "1256fc03",
      "metadata": {},
      "source": [
        "1. **ELE — segundo autovalor (forma simbólica).**  \n",
        "\n",
        "   Muestre algebraicamente cómo el segundo autovalor del ELE es igual a  \n",
        "   $$\n",
        "   \\lambda_2 \\;=\\; (\\gamma+\\mu)\\,(R_0-1).\n",
        "   $$  \n",
        "   Luego, explique en palabras:  \n",
        "   ¿Cómo confirma esto su hallazgo teórico de que la inestabilidad ocurre cuando $R_0>1$?\n",
        "\n",
        "      Se parte del segundo autovalor simbólico en el ELE:\n",
        "      $$\n",
        "      \\lambda_2 \\;=\\; N\\beta - \\gamma - \\mu.\n",
        "      $$\n",
        "\n",
        "      Definimos\n",
        "      $$\n",
        "      R_0 \\;=\\; \\frac{\\beta N}{\\gamma+\\mu}.\n",
        "      $$\n",
        "\n",
        "      Entonces,\n",
        "      $$\n",
        "      \\begin{aligned}\n",
        "      (\\gamma+\\mu)(R_0-1)\n",
        "      &= (\\gamma+\\mu)\\!\\left(\\frac{\\beta N}{\\gamma+\\mu}-1\\right) \\\\\n",
        "      &= (\\gamma+\\mu)\\!\\left(\\frac{\\beta N - (\\gamma+\\mu)}{\\gamma+\\mu}\\right) \\\\\n",
        "      &= \\beta N - (\\gamma+\\mu) \\\\\n",
        "      &= N\\beta - \\gamma - \\mu \\;=\\; \\lambda_2.\n",
        "      \\end{aligned}\n",
        "      $$\n",
        "\n",
        "      Como $\\gamma+\\mu>0$, si $R_0>1$ entonces $\\lambda_2>0$: \n",
        "      \n",
        "      el **ELE es inestable** con cualquier perturbación hacia $I>0$ crece.\n",
        "\n",
        "2. **Autovalores numéricos en el equilibrio endémico.**  \n",
        "   Examine los autovalores numéricos que calculó para el equilibrio endémico. ¿Sus partes reales son positivas o negativas? Con base en estas reglas, ¿el equilibrio endémico es estable o inestable?\n",
        "   \n",
        "      $$\n",
        "      \\lambda_{1,2}=-0.04166667 \\pm 0.07657603\\,i.\n",
        "      $$\n",
        "      Las partes reales son negativas $(-0.0417)$. Por lo tanto, el equilibrio endémico es un foco estable : la dinámica presenta oscilaciones amortiguadas que decaen hacia $(S^*,I^*)$.\n",
        "\n",
        "---\n",
        "\n",
        "3. **Consistencia entre estabilidad y trayectorias.**  \n",
        "   Compare los resultados de su análisis de estabilidad (Parte 2) con el comportamiento visual de las trayectorias graficadas en la Parte 1. ¿Son consistentes los resultados? Explique cómo el hecho de que el ELE sea inestable y el endémico sea estable explica las trayectorias observadas.\n",
        "\n",
        "   - En la Parte 1, ambas trayectorias convergen al equilibrio endémico y no al ELE.  \n",
        "   - Esto concuerda con:\n",
        "   - ELE inestable cuando $R_0>1$ (por $\\lambda_2>0$).  \n",
        "   - Endémico estable (partes reales negativas), lo que explica las curvas que giran  y se asientan en $(S^*,I^*)$.\n",
        "\n",
        "\n",
        "4. **Efecto de mayor esperanza de vida ($\\mu$ más pequeña) en el ELE.**  \n",
        "   Si la esperanza de vida aumenta (disminuye $\\mu$), ¿cómo afectaría esto al autovalor positivo del ELE cuando $R_0>1$? ¿Haría que el brote inicial fuera más rápido o más lento? Explique su razonamiento a partir de la fórmula del autovalor.\n",
        "\n",
        "      Con $\\lambda_2 = (\\gamma+\\mu)(R_0-1) = \\beta N - (\\gamma+\\mu)$:\n",
        "      - Si **disminuye $\\mu$** (manteniendo $\\beta,N,\\gamma$ fijos), entonces $(\\gamma+\\mu)$ **disminuye** y\n",
        "      $$\n",
        "      \\lambda_2 = \\beta N - (\\gamma+\\mu) \\ \\text{**aumenta**}.\n",
        "      $$\n",
        "      - Además, $R_0=\\frac{\\beta N}{\\gamma+\\mu}$ **aumenta**.\n",
        "\n",
        "      Entonces con $\\mu$ más pequeña y $R_0>1$, el autovalor positivo se hace más grande, por lo que la divergencia del ELE es más rápida: el brote inicial progresa más rápido.\n"
      ]
    }
  ],
  "metadata": {
    "colab": {
      "provenance": []
    },
    "kernelspec": {
      "display_name": "simlab",
      "language": "python",
      "name": "python3"
    },
    "language_info": {
      "name": "python",
      "version": "3.12.11"
    }
  },
  "nbformat": 4,
  "nbformat_minor": 5
}
