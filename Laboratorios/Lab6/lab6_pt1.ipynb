{
 "cells": [
  {
   "cell_type": "markdown",
   "id": "81c7ce5d",
   "metadata": {},
   "source": [
    "# Laboratorio 6\n",
    "\n",
    "## Integrantes\n",
    "\n",
    "- Sergio Orellana 221122\n",
    "- Rodrigo Mansilla 22611\n",
    "- Carlos Valladares 221164"
   ]
  },
  {
   "cell_type": "markdown",
   "id": "7a2b3299",
   "metadata": {},
   "source": [
    "# Parte 1 - Teoría"
   ]
  }
 ],
 "metadata": {
  "language_info": {
   "name": "python"
  }
 },
 "nbformat": 4,
 "nbformat_minor": 5
}
