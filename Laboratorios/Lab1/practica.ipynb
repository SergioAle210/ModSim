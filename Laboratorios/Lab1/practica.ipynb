{
 "cells": [
  {
   "cell_type": "markdown",
   "id": "d8ea0a07",
   "metadata": {},
   "source": [
    "Integrantes:\n",
    "- Rodrigo Mansilla\n",
    "- Sergio Orellana\n",
    "- Carlos Valladares"
   ]
  },
  {
   "cell_type": "markdown",
   "id": "718ddef0",
   "metadata": {},
   "source": [
    "### Práctica - Ejercicio 1"
   ]
  },
  {
   "cell_type": "code",
   "execution_count": null,
   "id": "03ac3eba",
   "metadata": {},
   "outputs": [
    {
     "ename": "NameError",
     "evalue": "name 'display_dataframe_to_user' is not defined",
     "output_type": "error",
     "traceback": [
      "\u001b[1;31m---------------------------------------------------------------------------\u001b[0m",
      "\u001b[1;31mNameError\u001b[0m                                 Traceback (most recent call last)",
      "Cell \u001b[1;32mIn[1], line 37\u001b[0m\n\u001b[0;32m     29\u001b[0m \u001b[38;5;66;03m# Mostrar datos en tabla\u001b[39;00m\n\u001b[0;32m     30\u001b[0m df \u001b[38;5;241m=\u001b[39m pd\u001b[38;5;241m.\u001b[39mDataFrame({\n\u001b[0;32m     31\u001b[0m     \u001b[38;5;124m\"\u001b[39m\u001b[38;5;124mTiempo (meses)\u001b[39m\u001b[38;5;124m\"\u001b[39m: t,\n\u001b[0;32m     32\u001b[0m     \u001b[38;5;124m\"\u001b[39m\u001b[38;5;124mSolución Euler\u001b[39m\u001b[38;5;124m\"\u001b[39m: S_euler,\n\u001b[0;32m     33\u001b[0m     \u001b[38;5;124m\"\u001b[39m\u001b[38;5;124mSolución Exacta\u001b[39m\u001b[38;5;124m\"\u001b[39m: S_exact,\n\u001b[0;32m     34\u001b[0m     \u001b[38;5;124m\"\u001b[39m\u001b[38;5;124mError Absoluto\u001b[39m\u001b[38;5;124m\"\u001b[39m: np\u001b[38;5;241m.\u001b[39mabs(S_euler \u001b[38;5;241m-\u001b[39m S_exact)\n\u001b[0;32m     35\u001b[0m })\n\u001b[1;32m---> 37\u001b[0m \u001b[43mdisplay_dataframe_to_user\u001b[49m(\u001b[38;5;124m\"\u001b[39m\u001b[38;5;124mSimulación de Decaimiento de Población\u001b[39m\u001b[38;5;124m\"\u001b[39m, df)\n\u001b[0;32m     39\u001b[0m \u001b[38;5;66;03m# Gráfica\u001b[39;00m\n\u001b[0;32m     40\u001b[0m plt\u001b[38;5;241m.\u001b[39mplot(t, S_euler, label\u001b[38;5;241m=\u001b[39m\u001b[38;5;124m\"\u001b[39m\u001b[38;5;124mEuler\u001b[39m\u001b[38;5;124m\"\u001b[39m, linestyle\u001b[38;5;241m=\u001b[39m\u001b[38;5;124m\"\u001b[39m\u001b[38;5;124m--\u001b[39m\u001b[38;5;124m\"\u001b[39m)\n",
      "\u001b[1;31mNameError\u001b[0m: name 'display_dataframe_to_user' is not defined"
     ]
    }
   ],
   "source": [
    "import numpy as np\n",
    "import matplotlib.pyplot as plt\n",
    "import pandas as pd\n",
    "\n",
    "# Parámetros del modelo\n",
    "S0 = 1000                    # Población inicial\n",
    "alpha = 0.1                 # Tasa de mortalidad (mes^-1)\n",
    "dt = 0.1                    # Paso de integración (meses)\n",
    "T = 24                      # Horizonte de tiempo (meses)\n",
    "N = int(T / dt)             # Número de pasos\n",
    "\n",
    "# Tiempo\n",
    "t = np.linspace(0, T, N+1)\n",
    "\n",
    "# Inicialización de arrays\n",
    "S_euler = np.zeros(N+1)\n",
    "S_exact = np.zeros(N+1)\n",
    "\n",
    "# Condición inicial\n",
    "S_euler[0] = S0\n",
    "S_exact[0] = S0\n",
    "\n",
    "# Simulación por Euler\n",
    "for i in range(N):\n",
    "    dS = -alpha * S_euler[i]\n",
    "    S_euler[i+1] = S_euler[i] + dS * dt\n",
    "    S_exact[i+1] = S0 * np.exp(-alpha * t[i+1])\n",
    "\n",
    "# Mostrar datos en tabla\n",
    "df = pd.DataFrame({\n",
    "    \"Tiempo (meses)\": t,\n",
    "    \"Solución Euler\": S_euler,\n",
    "    \"Solución Exacta\": S_exact,\n",
    "    \"Error Absoluto\": np.abs(S_euler - S_exact)\n",
    "})\n",
    "\n",
    "# Mostrar primeras filas como muestra\n",
    "print(df.head())\n",
    "\n",
    "# Gráfica\n",
    "plt.plot(t, S_euler, label=\"Euler\", linestyle=\"--\")\n",
    "plt.plot(t, S_exact, label=\"Solución Analítica\", linewidth=2)\n",
    "plt.xlabel(\"Tiempo (meses)\")\n",
    "plt.ylabel(\"Población\")\n",
    "plt.title(\"Comparación: Método de Euler vs Solución Exacta\")\n",
    "plt.legend()\n",
    "plt.grid(True)\n",
    "plt.show()\n"
   ]
  }
 ],
 "metadata": {
  "kernelspec": {
   "display_name": "Python 3",
   "language": "python",
   "name": "python3"
  },
  "language_info": {
   "codemirror_mode": {
    "name": "ipython",
    "version": 3
   },
   "file_extension": ".py",
   "mimetype": "text/x-python",
   "name": "python",
   "nbconvert_exporter": "python",
   "pygments_lexer": "ipython3",
   "version": "3.12.3"
  }
 },
 "nbformat": 4,
 "nbformat_minor": 5
}
