{
 "cells": [
  {
   "cell_type": "markdown",
   "id": "04be2766",
   "metadata": {},
   "source": [
    "# Laboratorio 7 - Parte 2\n",
    "\n",
    "## Integrantes\n",
    "\n",
    "- Sergio Orellana 221122\n",
    "- Rodrigo Mansilla 22611\n",
    "- Carlos Valladares 221164"
   ]
  },
  {
   "cell_type": "markdown",
   "id": "9e0aea96",
   "metadata": {},
   "source": [
    "## Parte 2 - Teoría\n",
    "\n",
    "### Pregunta 1\n",
    "**Imagine que usted ha sido contratado para modelar el sistema de tráfico de una gran ciudad con el fin de evaluar el impacto de un nuevo sistema de metro. ¿Por qué un modelo puramente MBA, DES o DS sería, por sí solo, insuficiente para esta tarea? Describa cómo diseñaría usted un modelo híbrido para este problema, identificando qué componente del sistema sería modelado con cada paradigma y cómo interactuarían entre sí.**\n",
    "\n",
    "Un modelo puramente MBA capturaría bien la heterogeneidad y las decisiones de los viajeros (cambio de ruta, hora de salida, adopción del metro), pero no representaría con precisión los cuellos de botella operativos ni los tiempos de servicio en estaciones y cruces. Un puramente DES modelaría con detalle las colas, recursos y flujos en andenes, tornos y semáforos, pero carecería de comportamiento adaptativo y de interacción social a nivel individual. Un puramente DS ofrecería una vista macro de stocks y flujos (adopción del metro, congestión promedio), pero sería demasiado agregado para políticas que dependen de microinteracciones y de la red vial concreta.  \n",
    "Diseño un híbrido tri-paradigma:  \n",
    "• **MBA (micro):** agentes personas y vehículos con preferencias, valor del tiempo, aprendizaje y respuesta a información en tiempo real; operadores que ajustan oferta/frecuencias.  \n",
    "• **DES (operativo):** estaciones y nodos (torniquetes, andenes, escaleras, transbordos) y cruces/semaforización como procesos con recursos y colas; cálculo de tiempos de espera, utilización y throughput por franja.  \n",
    "• **DS (macro):** bucles de realimentación para adopción del metro y demanda total, congestión promedio y elasticidades que devuelven tasas y niveles a MBA y DES.  \n",
    "**Acoplo:** MBA genera llegadas por estación/hora hacia el DES; el DES devuelve tiempos de espera y fiabilidad que modifican la utilidad percibida en MBA; el DS lee agregados (congestión, puntualidad, saturación) y actualiza tendencias de demanda que condicionan la población simulada (MBA) y la capacidad operativa (DES).\n",
    "\n",
    "### Pregunta 2\n",
    "**En el \"Patrón 1: MBA → DES\", la transición de un agente a una entidad debe ser fluida. Describa a nivel conceptual y técnico (¿qué información específica se debe transferir?) cómo se realizaría esta transición en una herramienta como AnyLogic, o de forma más abstracta, en un marco de trabajo en Python que combinara las bibliotecas Mesa (para MBA) y SimPy (para DES).**\n",
    "\n",
    "Conceptualmente, cuando un agente “entra al proceso” (por ejemplo, llega a la estación), debo materializarlo como entidad de DES con los atributos mínimos para cola y servicio.  \n",
    "Datos que transfiero: id del agente y hora de llegada (para medir espera), tipo de servicio requerido, prioridad, distribución/estimación de tiempo de servicio, ubicación/estación y ruta de proceso, además de estado relevante (p. ej., tolerancia a esperar o probabilidad de abandono).  \n",
    "En un stack Mesa+SimPy, el agente crea un mensaje/objeto con esos campos y lo encola en una Store o pasa a un proceso (`env.process(servicio(entidad))`) que hace seize/hold/release sobre `Resource` o `PriorityResource`. Al terminar, el DES emite un evento de salida con tiempos de espera y servicio y el resultado (éxito/abandono) para que el agente en Mesa actualice su estado y decida su siguiente acción. En AnyLogic, mapearía propiedades del agente a atributos de la entidad al entrar a la cadena de bloques de proceso y sincronizaría de vuelta al abandonar el flujo.\n",
    "\n",
    "### Pregunta 3\n",
    "**El \"Patrón 3: DS dentro de un Agente\" es un claro ejemplo de modelado multi-escala. Proponga usted otro escenario (fuera del ámbito biológico), por ejemplo, en economía o sociología, donde este patrón sería de gran utilidad. ¿Qué representaría el agente (MBA) y qué dinámica capturaría su modelo de Dinámica de Sistemas (DS) interno?**\n",
    "\n",
    "Planteo un mercado minorista con agentes‑empresa (tiendas). Cada tienda es un agente que compite por demanda local y decide precios/promociones, pero dentro lleva un modelo DS de inventario–pedidos–backlog (stocks: inventario disponible, pedidos en tránsito y cartera; flujos: ventas, reposición y devoluciones). Ese DS interno capta retrasos y bucles (stock bajo → más pedidos → posible sobrestock al arribar) que explican roturas de stock y efecto látigo. El MBA coordina la competencia espacial y la interacción con clientes heterogéneos; el DS interno gobierna la política de reposición y la dinámica operativa de cada tienda.\n",
    "\n",
    "### Pregunta 4\n",
    "**La combinación de paradigmas de modelado presenta desafíos significativos. Desde su perspectiva, ¿cuáles cree usted que son los dos mayores desafíos al construir y validar un modelo híbrido? Considere aspectos como la calibración de parámetros entre los diferentes componentes, la complejidad del software y la validación de los resultados emergentes.**\n",
    "\n",
    "Primero, la calibración y consistencia entre escalas/paradigmas: debo alinear tasas y tiempos del DES (distribuciones de servicio y llegada), reglas del MBA (preferencias, elasticidades, aprendizaje) y parámetros del DS (ganancias de bucle, retardos) para describir la misma realidad, traduciendo métricas observables (esperas, utilización) en utilidades/comportamientos y evitando doble contabilidad de efectos. Segundo, la complejidad e inferencia sobre fenómenos emergentes: debo validar no solo series agregadas, sino patrones emergentes (distribución de viajes, formación y disipación de colas, adopción del metro), con sensibilidad y escenarios para garantizar robustez, además de verificación y pruebas de rendimiento del software.\n",
    "\n"
   ]
  },
  {
   "cell_type": "markdown",
   "id": "fc924fae",
   "metadata": {},
   "source": [
    "# Referencias\n",
    "\n",
    "- GeeksforGeeks. (2020, November 19). Basics of Discrete Event Simulation using SimPy. GeeksforGeeks. https://www.geeksforgeeks.org/python/basics-of-discrete-event-simulation-using-simpy/ \n",
    "- GeeksforGeeks. (2024, May 27). Queuing theory. GeeksforGeeks. https://www.geeksforgeeks.org/maths/queuing-theory/ \n",
    "- GeeksforGeeks. (2025a, July 23). Agent based modelling. GeeksforGeeks. https://www.geeksforgeeks.org/artificial-intelligence/agent-based-modelling/ \n",
    "- GeeksforGeeks. (2025b, July 23). How to do Mathematical Modeling in Python? GeeksforGeeks. https://www.geeksforgeeks.org/python/how-to-do-mathematical-modeling-in-python/ \n",
    "- GeeksforGeeks. (2025c, July 23). What is Systems Thinking? | Working, Benefits and Limitations. GeeksforGeeks. https://www.geeksforgeeks.org/software-engineering/what-is-systems-thinking-working-benefits-and-limitations/ \n",
    "- GeeksforGeeks. (2025d, August 14). Agents in AI. GeeksforGeeks. https://www.geeksforgeeks.org/artificial-intelligence/agents-artificial-intelligence/"
   ]
  }
 ],
 "metadata": {
  "language_info": {
   "name": "python"
  }
 },
 "nbformat": 4,
 "nbformat_minor": 5
}
