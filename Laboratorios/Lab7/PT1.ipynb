{
 "cells": [
  {
   "cell_type": "markdown",
   "id": "6481b201",
   "metadata": {},
   "source": [
    "# Laboratorio 7 - Parte 1\n",
    "\n",
    "## Integrantes\n",
    "\n",
    "- Sergio Orellana 221122\n",
    "- Rodrigo Mansilla 22611\n",
    "- Carlos Valladares 221164"
   ]
  },
  {
   "cell_type": "markdown",
   "id": "d646d287",
   "metadata": {},
   "source": [
    "## Parte 1\n",
    "\n",
    "### Pregunta 1\n",
    "**Describa con sus propias palabras la diferencia fundamental entre una Entidad de DES y un Agente de MBA. ¿Por qué esta diferencia hace que cada paradigma sea adecuado para tipos de problemas distintos? Proporcione un ejemplo de un problema de modelado para cada uno**\n",
    "\n",
    "En DES, una *entidad* (por ejemplo, un cliente o una orden) es típicamente pasiva: fluye a través de un proceso predefinido (llegar → esperar → ser atendida → salir) y “cobra vida” solo cuando ocurre un evento del sistema (arriba una llegada, termina un servicio, cambia un recurso). La lógica dominante está en la línea de proceso y los recursos, no dentro de la entidad.  \n",
    "En MBA, un *agente* (por ejemplo, una persona, empresa o vehículo) es autónomo: tiene estado interno, reglas de decisión, objetivos e interacciones con otros agentes y con su entorno; actúa continuamente en el tiempo o al ritmo de sus propias reglas, generando comportamientos emergentes.\n",
    "\n",
    "Esta diferencia hace que DES sea ideal para sistemas de flujo y capacidad (colas, procesos operativos) donde el interés es medir tiempos de espera, utilización de recursos y throughput. En cambio, MBA es adecuado para sistemas complejos con heterogeneidad y retroalimentaciones micro-macro (movilidad, propagación, mercados, redes) donde importan interacciones locales y decisiones individuales.\n",
    "\n",
    "- **Ejemplo DES:** un centro de llamadas con llegadas de clientes, múltiples agentes telefónicos, prioridades, *SLA* y reintentos.  \n",
    "- **Ejemplo MBA:** propagación de rumores o enfermedad en una ciudad con individuos que se mueven, deciden y cambian su comportamiento según su red social y percepciones de riesgo.\n",
    "\n",
    "### Pregunta 2\n",
    "**Explique por qué las colas son una consecuencia inevitable en la mayoría de los sistemas modelados con DES. ¿Qué tipo de información valiosa podemos extraer al analizar la longitud de una cola y el tiempo de espera en ella a lo largo de una simulación?**\n",
    "\n",
    "Con llegadas y tiempos de servicio variables (incertidumbre), incluso si la utilización promedio es menor que 1, la variabilidad provoca congestión temporal: llegan “ráfagas” y los servicios tienen duraciones irregulares, así que se forman colas. En régimen estable, la teoría de colas muestra que la relación entre el número promedio en el sistema $L$, la tasa de llegada efectiva $\\lambda$ y el tiempo promedio en el sistema $W$ cumple la Ley de Little: $L=\\lambda W$. Cuanto mayor es la utilización y la variabilidad (de llegadas y servicio), mayor será la cola y el tiempo de espera esperados.\n",
    "\n",
    "Al analizar longitud de cola y tiempos de espera (promedios, percentiles y colas de distribución) puedo:\n",
    "- Detectar cuellos de botella y puntos de saturación.  \n",
    "- Dimensionar recursos (servidores, puestos, inventario) para cumplir SLA.  \n",
    "- Evaluar políticas (prioridades, citas, *pooling* de recursos, *batching*).  \n",
    "- Cuantificar riesgo operativo (picos, *tail risk*).  \n",
    "- Proponer trade-offs costo–servicio (por ejemplo, cuántos servidores adicionales reducen el $95^\\text{o}$ percentil de espera a un objetivo).\n",
    "\n",
    "### Pregunta 3\n",
    "**En clase se mencionaron los recursos móviles, estáticos y portátiles. Describa un escenario (diferente al hospital) que involucre los tres tipos de recursos. Identifique qué elementos serían cada tipo de recurso y cómo interactuarían.**\n",
    "\n",
    "Centro de distribución de e‑commerce:\n",
    "- **Recursos estáticos:** estaciones de picking y empaque fijas, y cintas transportadoras en ubicaciones específicas.  \n",
    "- **Recursos móviles:** robots AMR o montacargas que se desplazan entre racks, estaciones y muelles. Son solicitados para transportar pedidos o contenedores.  \n",
    "- **Recursos portátiles:** totes (contenedores) y escáneres de mano que acompañan al pedido mientras avanza por el proceso; se “apoderan” (seize) al inicio y se devuelven (release) al terminar.\n",
    "\n",
    "**Interacción:** una orden llega, se apodera de un tote (portátil) y solicita un robot (móvil) que la lleva a la estación de picking (estática). Tras el picking, otro traslado móvil la lleva a empaque (estático); el tote permanece con la orden hasta el despacho y luego retorna al pool de portátiles. \n",
    "\n",
    "### Pregunta 4\n",
    "**Imagine que está modelando la propagación de una enfermedad en una ciudad (un problema clásico de MBA). Ahora, quieres añadir el proceso de vacunación en centros de salud. ¿Cómo podría combinar MBA y DES? ¿Qué parte del modelo sería MBA y cuál DES? ¿Qué información pasaría de un modelo a otro?**\n",
    "\n",
    "Construiría un modelo híbrido:\n",
    "- **Parte MBA (ciudad):** agentes personas con atributos (edad, estado $S/E/I/R/V$, aceptación vacunal), movilidad diaria y red de contactos. La transmisión ocurre por interacciones y decisiones individuales (por ejemplo, acudir o no a vacunarse).  \n",
    "- **Parte DES (centros de salud):** flujo de pacientes por recepción → vacunación → observación, con recursos (personal, cabinas, dosis disponibles), colas, tiempos de servicio y horarios. Se mide throughput, esperas y utilización.\n",
    "\n",
    "Intercambio de información:  \n",
    "- **MBA a DES:** listas (o tasas) de llegadas por centro y franja horaria (derivadas de decisiones/ubicación de agentes), no‑shows, prioridad por riesgo.  \n",
    "- **DES a MBA:** eventos de vacunación confirmados por individuo y tiempo (cambian el estado del agente a $V$ tras un delay de efectividad), tiempos de espera (que pueden afectar comportamiento futuro), y capacidad/stock (que condiciona citas futuras).  \n",
    "El acople puede ser sincrónico (timestep común) o por eventos (el DES dispara eventos de vacunación que el MBA consume). Así preservo la dinámica micro de contagios (MBA) y el rendimiento operativo de la vacunación (DES)."
   ]
  },
  {
   "cell_type": "markdown",
   "id": "86f40920",
   "metadata": {},
   "source": [
    "## **Parte 2 – Teoría**\n",
    "\n",
    "### **1. Modelo híbrido para el tráfico urbano**\n",
    "\n",
    "En nuestro caso, un modelo puramente **MBA**, **DES** o **DS** por sí solo no sería suficiente, ya que el tráfico urbano combina **comportamientos individuales** (conductores que toman decisiones), **procesos discretos** (como semáforos, intersecciones y atascos) y **dinámicas continuas agregadas** (flujo promedio, velocidad media o emisiones).\n",
    "\n",
    "Diseñaríamos un **modelo híbrido** donde cada paradigma cumpla un rol específico:\n",
    "\n",
    "* **MBA:** representaría a los conductores o vehículos, quienes deciden acelerar, frenar o cambiar de ruta según la densidad del tráfico y las condiciones del entorno.\n",
    "* **DES:** modelaría los eventos discretos, como el cambio de luces en los semáforos, la entrada o salida de vehículos en avenidas y los accidentes.\n",
    "* **DS:** controlaría las variables continuas del sistema, como la evolución temporal del flujo promedio, el consumo de combustible o las emisiones contaminantes.\n",
    "\n",
    "Estos componentes interactuarían constantemente: el **MBA** generaría los patrones de densidad vehicular que alimentarían las ecuaciones diferenciales del **DS**, mientras que el **DES** regularía los tiempos de paso y los eventos críticos que influyen en las decisiones de los agentes. Este enfoque híbrido permite capturar la complejidad del tráfico real de forma más realista y analítica.\n",
    "\n",
    "\n",
    "### **2. Transición fluida MBA → DES**\n",
    "\n",
    "En una herramienta como **AnyLogic**, o en un marco en Python que combine **Mesa (MBA)** y **SimPy (DES)**, la transición fluida entre paradigmas consiste en **transferir el estado del agente** hacia una entidad que opere dentro del modelo de eventos discretos.\n",
    "\n",
    "Conceptualmente, nosotros transferiríamos información clave como:\n",
    "\n",
    "* El **identificador del agente**.\n",
    "* Su **estado actual** (por ejemplo, “esperando atención” o “en servicio”).\n",
    "* **Variables contextuales relevantes**, como energía, prioridad, tiempo de llegada o ubicación.\n",
    "\n",
    "Técnicamente, podríamos implementar esta transición creando un proceso de SimPy que reciba el objeto del agente de Mesa mediante una llamada como `env.process(servicio(agent))`. Esto garantiza que el agente conserve su identidad y atributos mientras participa en un proceso DES.\n",
    "\n",
    "De esta forma, el flujo entre paradigmas se mantiene coherente: el MBA define cuándo ocurre la transición y el DES gestiona la lógica del servicio o evento correspondiente.\n",
    "\n",
    "\n",
    "### **3. Ejemplo del patrón “DS dentro de un Agente”**\n",
    "\n",
    "Un caso no biológico donde aplicaríamos este patrón sería un **modelo económico** en el que cada **agente representa una empresa**. Dentro de cada agente, incorporaríamos un **modelo de Dinámica de Sistemas (DS)** que gestione variables financieras continuas, como el flujo de caja, la inversión o el capital acumulado.\n",
    "\n",
    "En este contexto, el **agente (MBA)** interactúa con otros en un mercado competitivo (comprando, vendiendo o invirtiendo), mientras su **modelo DS interno** regula el comportamiento financiero a lo largo del tiempo. Esto nos permite analizar cómo las decisiones microeconómicas individuales afectan la estabilidad macroeconómica del sistema.\n",
    "\n",
    "Este tipo de modelado multi-escala es útil para comprender fenómenos como crisis financieras o burbujas de mercado, donde las acciones locales de los agentes generan dinámicas globales emergentes.\n",
    "\n",
    "\n",
    "### **4. Desafíos al construir modelos híbridos**\n",
    "\n",
    "Desde nuestra experiencia y comprensión del tema, los dos principales desafíos al construir modelos híbridos son los siguientes:\n",
    "\n",
    "1. **Calibración entre paradigmas:** los parámetros de un modelo DES (por ejemplo, tasas de llegada o tiempos de servicio) deben ser consistentes con las variables dinámicas del DS y los comportamientos autónomos del MBA. Lograr esta coherencia requiere múltiples iteraciones de prueba, ajuste y validación cruzada.\n",
    "2. **Validación de resultados emergentes:** cuando los paradigmas se combinan, los resultados globales suelen ser no lineales y difíciles de predecir. Esto complica la verificación de que el modelo reproduzca fielmente los fenómenos reales.\n",
    "\n",
    "A esto se suma la **complejidad computacional** de integrar distintos lenguajes o librerías, así como la necesidad de mantener sincronización entre escalas temporales y niveles de detalle. Sin embargo, estos retos también son lo que hace que el modelado híbrido sea tan poderoso, ya que permite capturar la realidad desde múltiples perspectivas."
   ]
  },
  {
   "cell_type": "markdown",
   "id": "720ccd87",
   "metadata": {},
   "source": [
    "## Práctica\n"
   ]
  },
  {
   "cell_type": "markdown",
   "id": "50321b33",
   "metadata": {},
   "source": [
    "#### Inicialización del entorno y parámetros"
   ]
  },
  {
   "cell_type": "code",
   "execution_count": null,
   "id": "a6a945f4",
   "metadata": {
    "vscode": {
     "languageId": "plaintext"
    }
   },
   "outputs": [],
   "source": [
    "import simpy\n",
    "import random\n",
    "import statistics\n",
    "\n",
    "NUM_RECEPCIONISTAS = 1\n",
    "NUM_MEDICOS = 2\n",
    "TIEMPO_REGISTRO_PROMEDIO = 2.0      \n",
    "TIEMPO_CONSULTA_PROMEDIO = 7.0      \n",
    "TASA_LLEGADA_PACIENTES = 5.0        \n",
    "TIEMPO_SIMULACION = 120.0          \n",
    "\n",
    "# Lista para almacenar los tiempos totales de permanencia\n",
    "tiempos_de_espera_totales = []\n"
   ]
  },
  {
   "cell_type": "markdown",
   "id": "783b7015",
   "metadata": {},
   "source": [
    "**Referencias:** \n",
    "\n",
    "* Mustafee, N., & Powell, J. H. (2018). *From hybrid simulation to hybrid systems modelling.* Procedings of the Winter Simulation Conference. Disponible en: [https://ore.exeter.ac.uk/articles/conference_contribution/From_Hybrid_Simulation_to_Hybrid_Systems_Modelling/29749883](https://ore.exeter.ac.uk/articles/conference_contribution/From_Hybrid_Simulation_to_Hybrid_Systems_Modelling/29749883) ([ore.exeter.ac.uk][1])\n",
    "* North, M. J., Collier, N. T., & Vos, J. R. (2006). *Experiences creating three implementations of the Repast Agent Modeling Toolkit.* ACM Transactions on Modeling and Computer Simulation. Disponible en: [https://dl.acm.org/doi/10.1145/1122012.1122013](https://dl.acm.org/doi/10.1145/1122012.1122013) ([dl.acm.org][2])\n",
    "* Helbing, D. (2001). *Traffic and related self-driven many-particle systems.* Reviews of Modern Physics, 73(4), 1067-1141. Disponible en: [https://link.aps.org/doi/10.1103/RevModPhys.73.1067](https://link.aps.org/doi/10.1103/RevModPhys.73.1067) ([link.aps.org][3])\n",
    "* Epstein, J. M. (2009). *Modelling to contain pandemics.* Nature, 460(7256), 687-687. Disponible en: [https://www.nature.com/articles/460687a](https://www.nature.com/articles/460687a) ([nature.com][4])"
   ]
  }
 ],
 "metadata": {
  "language_info": {
   "name": "python"
  }
 },
 "nbformat": 4,
 "nbformat_minor": 5
}
