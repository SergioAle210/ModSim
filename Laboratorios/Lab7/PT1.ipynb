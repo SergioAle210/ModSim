{
 "cells": [
  {
   "cell_type": "markdown",
   "id": "d646d287",
   "metadata": {},
   "source": [
    "## **Parte 1 – Teoría**\n",
    "\n",
    "### **1. Diferencia entre una Entidad de DES y un Agente de MBA**\n",
    "\n",
    "En nuestra opinión, la diferencia fundamental radica en el **grado de autonomía**. Una **Entidad** en un modelo de **Eventos Discretos (DES)** no posee voluntad ni capacidad de decisión: simplemente sigue una secuencia de actividades definida por el sistema, como un paciente que pasa por registro, consulta y salida. En cambio, un **Agente** en un **Modelo Basado en Agentes (MBA)** actúa de forma autónoma, con **reglas de comportamiento, objetivos propios e interacción con otros agentes y con su entorno**, lo que permite representar dinámicas adaptativas y emergentes.\n",
    "\n",
    "Por ello, el **DES** resulta más adecuado para procesos estructurados y repetitivos —por ejemplo, la atención en una clínica o una línea de producción—, mientras que el **MBA** es más apropiado para sistemas donde las decisiones individuales influyen en el comportamiento colectivo, como la propagación de una enfermedad o el flujo vehicular en una ciudad.\n",
    "\n",
    "**Ejemplos:**\n",
    "\n",
    "* **DES →** flujo de pacientes en un hospital.\n",
    "* **MBA →** simulación de peatones que eligen rutas según la congestión o el riesgo percibido.\n",
    "\n",
    "\n",
    "### **2. Colas en sistemas DES**\n",
    "\n",
    "En la mayoría de sistemas que modelamos mediante DES, las **colas son inevitables** debido a la **limitación de recursos** y la **variabilidad estocástica en la llegada y atención de entidades**. Cuando la demanda excede temporalmente la capacidad de servicio, las entidades deben esperar, generando una cola natural en el proceso.\n",
    "\n",
    "Analizar la **longitud promedio de las colas** y los **tiempos de espera** nos permite evaluar la eficiencia del sistema, identificar cuellos de botella y determinar posibles mejoras. Por ejemplo, podemos estimar si conviene aumentar el número de servidores, ajustar los tiempos de servicio o implementar prioridades para ciertos tipos de clientes. Este análisis es esencial para la toma de decisiones basadas en evidencia.\n",
    "\n",
    "\n",
    "### **3. Escenario con recursos móviles, estáticos y portátiles**\n",
    "\n",
    "Si consideramos el caso de un **aeropuerto**, podemos identificar claramente los tres tipos de recursos:\n",
    "\n",
    "* **Estáticos:** los mostradores de check-in y las puertas de embarque, que permanecen fijos.\n",
    "* **Móviles:** los autobuses que trasladan pasajeros entre terminales.\n",
    "* **Portátiles:** los escáneres de seguridad, tabletas o equipos de verificación que el personal puede reubicar según la demanda.\n",
    "\n",
    "Estos recursos interactúan constantemente: los autobuses (móviles) trasladan pasajeros hacia las puertas (estáticas), donde el personal utiliza dispositivos (portátiles) para procesar abordajes. Esta combinación permite que el sistema mantenga su operación eficiente frente a variaciones en la cantidad de vuelos o pasajeros.\n",
    "\n",
    "\n",
    "### **4. Combinación de MBA y DES en la propagación de una enfermedad**\n",
    "\n",
    "Si modelamos la **propagación de una enfermedad** en una ciudad, aplicaríamos un enfoque **híbrido**: utilizaríamos **MBA** para representar a los ciudadanos como agentes autónomos que se mueven, interactúan y se contagian, y emplearíamos **DES** para simular los procesos de **vacunación en centros de salud**, donde intervienen recursos limitados como médicos, insumos y salas.\n",
    "\n",
    "La información que transferiríamos del **MBA al DES** sería el **número de agentes infectados o susceptibles que buscan atención o vacunación**, mientras que el **DES retornaría al MBA** el **estado actualizado de inmunización o recuperación** de cada agente. De esta manera, ambos paradigmas se complementan para representar un sistema realista y dinámico."
   ]
  },
  {
   "cell_type": "markdown",
   "id": "86f40920",
   "metadata": {},
   "source": [
    "## **Parte 2 – Teoría**\n",
    "\n",
    "### **1. Modelo híbrido para el tráfico urbano**\n",
    "\n",
    "En nuestro caso, un modelo puramente **MBA**, **DES** o **DS** por sí solo no sería suficiente, ya que el tráfico urbano combina **comportamientos individuales** (conductores que toman decisiones), **procesos discretos** (como semáforos, intersecciones y atascos) y **dinámicas continuas agregadas** (flujo promedio, velocidad media o emisiones).\n",
    "\n",
    "Diseñaríamos un **modelo híbrido** donde cada paradigma cumpla un rol específico:\n",
    "\n",
    "* **MBA:** representaría a los conductores o vehículos, quienes deciden acelerar, frenar o cambiar de ruta según la densidad del tráfico y las condiciones del entorno.\n",
    "* **DES:** modelaría los eventos discretos, como el cambio de luces en los semáforos, la entrada o salida de vehículos en avenidas y los accidentes.\n",
    "* **DS:** controlaría las variables continuas del sistema, como la evolución temporal del flujo promedio, el consumo de combustible o las emisiones contaminantes.\n",
    "\n",
    "Estos componentes interactuarían constantemente: el **MBA** generaría los patrones de densidad vehicular que alimentarían las ecuaciones diferenciales del **DS**, mientras que el **DES** regularía los tiempos de paso y los eventos críticos que influyen en las decisiones de los agentes. Este enfoque híbrido permite capturar la complejidad del tráfico real de forma más realista y analítica.\n",
    "\n",
    "\n",
    "### **2. Transición fluida MBA → DES**\n",
    "\n",
    "En una herramienta como **AnyLogic**, o en un marco en Python que combine **Mesa (MBA)** y **SimPy (DES)**, la transición fluida entre paradigmas consiste en **transferir el estado del agente** hacia una entidad que opere dentro del modelo de eventos discretos.\n",
    "\n",
    "Conceptualmente, nosotros transferiríamos información clave como:\n",
    "\n",
    "* El **identificador del agente**.\n",
    "* Su **estado actual** (por ejemplo, “esperando atención” o “en servicio”).\n",
    "* **Variables contextuales relevantes**, como energía, prioridad, tiempo de llegada o ubicación.\n",
    "\n",
    "Técnicamente, podríamos implementar esta transición creando un proceso de SimPy que reciba el objeto del agente de Mesa mediante una llamada como `env.process(servicio(agent))`. Esto garantiza que el agente conserve su identidad y atributos mientras participa en un proceso DES.\n",
    "\n",
    "De esta forma, el flujo entre paradigmas se mantiene coherente: el MBA define cuándo ocurre la transición y el DES gestiona la lógica del servicio o evento correspondiente.\n",
    "\n",
    "\n",
    "### **3. Ejemplo del patrón “DS dentro de un Agente”**\n",
    "\n",
    "Un caso no biológico donde aplicaríamos este patrón sería un **modelo económico** en el que cada **agente representa una empresa**. Dentro de cada agente, incorporaríamos un **modelo de Dinámica de Sistemas (DS)** que gestione variables financieras continuas, como el flujo de caja, la inversión o el capital acumulado.\n",
    "\n",
    "En este contexto, el **agente (MBA)** interactúa con otros en un mercado competitivo (comprando, vendiendo o invirtiendo), mientras su **modelo DS interno** regula el comportamiento financiero a lo largo del tiempo. Esto nos permite analizar cómo las decisiones microeconómicas individuales afectan la estabilidad macroeconómica del sistema.\n",
    "\n",
    "Este tipo de modelado multi-escala es útil para comprender fenómenos como crisis financieras o burbujas de mercado, donde las acciones locales de los agentes generan dinámicas globales emergentes.\n",
    "\n",
    "\n",
    "### **4. Desafíos al construir modelos híbridos**\n",
    "\n",
    "Desde nuestra experiencia y comprensión del tema, los dos principales desafíos al construir modelos híbridos son los siguientes:\n",
    "\n",
    "1. **Calibración entre paradigmas:** los parámetros de un modelo DES (por ejemplo, tasas de llegada o tiempos de servicio) deben ser consistentes con las variables dinámicas del DS y los comportamientos autónomos del MBA. Lograr esta coherencia requiere múltiples iteraciones de prueba, ajuste y validación cruzada.\n",
    "2. **Validación de resultados emergentes:** cuando los paradigmas se combinan, los resultados globales suelen ser no lineales y difíciles de predecir. Esto complica la verificación de que el modelo reproduzca fielmente los fenómenos reales.\n",
    "\n",
    "A esto se suma la **complejidad computacional** de integrar distintos lenguajes o librerías, así como la necesidad de mantener sincronización entre escalas temporales y niveles de detalle. Sin embargo, estos retos también son lo que hace que el modelado híbrido sea tan poderoso, ya que permite capturar la realidad desde múltiples perspectivas."
   ]
  },
  {
   "cell_type": "markdown",
   "id": "720ccd87",
   "metadata": {},
   "source": [
    "## Práctica\n"
   ]
  },
  {
   "cell_type": "markdown",
   "id": "50321b33",
   "metadata": {},
   "source": [
    "#### Inicialización del entorno y parámetros"
   ]
  },
  {
   "cell_type": "code",
   "execution_count": null,
   "id": "a6a945f4",
   "metadata": {
    "vscode": {
     "languageId": "plaintext"
    }
   },
   "outputs": [],
   "source": [
    "import simpy\n",
    "import random\n",
    "import statistics\n",
    "\n",
    "NUM_RECEPCIONISTAS = 1\n",
    "NUM_MEDICOS = 2\n",
    "TIEMPO_REGISTRO_PROMEDIO = 2.0      \n",
    "TIEMPO_CONSULTA_PROMEDIO = 7.0      \n",
    "TASA_LLEGADA_PACIENTES = 5.0        \n",
    "TIEMPO_SIMULACION = 120.0          \n",
    "\n",
    "# Lista para almacenar los tiempos totales de permanencia\n",
    "tiempos_de_espera_totales = []\n"
   ]
  },
  {
   "cell_type": "markdown",
   "id": "783b7015",
   "metadata": {},
   "source": [
    "**Referencias:** \n",
    "\n",
    "* Mustafee, N., & Powell, J. H. (2018). *From hybrid simulation to hybrid systems modelling.* Procedings of the Winter Simulation Conference. Disponible en: [https://ore.exeter.ac.uk/articles/conference_contribution/From_Hybrid_Simulation_to_Hybrid_Systems_Modelling/29749883](https://ore.exeter.ac.uk/articles/conference_contribution/From_Hybrid_Simulation_to_Hybrid_Systems_Modelling/29749883) ([ore.exeter.ac.uk][1])\n",
    "* North, M. J., Collier, N. T., & Vos, J. R. (2006). *Experiences creating three implementations of the Repast Agent Modeling Toolkit.* ACM Transactions on Modeling and Computer Simulation. Disponible en: [https://dl.acm.org/doi/10.1145/1122012.1122013](https://dl.acm.org/doi/10.1145/1122012.1122013) ([dl.acm.org][2])\n",
    "* Helbing, D. (2001). *Traffic and related self-driven many-particle systems.* Reviews of Modern Physics, 73(4), 1067-1141. Disponible en: [https://link.aps.org/doi/10.1103/RevModPhys.73.1067](https://link.aps.org/doi/10.1103/RevModPhys.73.1067) ([link.aps.org][3])\n",
    "* Epstein, J. M. (2009). *Modelling to contain pandemics.* Nature, 460(7256), 687-687. Disponible en: [https://www.nature.com/articles/460687a](https://www.nature.com/articles/460687a) ([nature.com][4])"
   ]
  }
 ],
 "metadata": {
  "language_info": {
   "name": "python"
  }
 },
 "nbformat": 4,
 "nbformat_minor": 5
}
