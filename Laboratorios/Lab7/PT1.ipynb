{
 "cells": [
  {
   "cell_type": "markdown",
   "id": "720ccd87",
   "metadata": {},
   "source": [
    "## Práctica\n"
   ]
  },
  {
   "cell_type": "markdown",
   "id": "50321b33",
   "metadata": {},
   "source": [
    "#### Inicialización del entorno y parámetros"
   ]
  },
  {
   "cell_type": "code",
   "execution_count": null,
   "id": "a6a945f4",
   "metadata": {
    "vscode": {
     "languageId": "plaintext"
    }
   },
   "outputs": [],
   "source": [
    "import simpy\n",
    "import random\n",
    "import statistics\n",
    "\n",
    "NUM_RECEPCIONISTAS = 1\n",
    "NUM_MEDICOS = 2\n",
    "TIEMPO_REGISTRO_PROMEDIO = 2.0      \n",
    "TIEMPO_CONSULTA_PROMEDIO = 7.0      \n",
    "TASA_LLEGADA_PACIENTES = 5.0        \n",
    "TIEMPO_SIMULACION = 120.0          \n",
    "\n",
    "# Lista para almacenar los tiempos totales de permanencia\n",
    "tiempos_de_espera_totales = []\n"
   ]
  }
 ],
 "metadata": {
  "language_info": {
   "name": "python"
  }
 },
 "nbformat": 4,
 "nbformat_minor": 5
}
