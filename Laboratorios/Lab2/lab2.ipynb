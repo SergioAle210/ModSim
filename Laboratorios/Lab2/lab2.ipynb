{
 "cells": [
  {
   "cell_type": "markdown",
   "id": "525e12e4",
   "metadata": {},
   "source": []
  }
 ],
 "metadata": {
  "language_info": {
   "name": "python"
  }
 },
 "nbformat": 4,
 "nbformat_minor": 5
}
