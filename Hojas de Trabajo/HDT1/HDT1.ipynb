{
 "cells": [
  {
   "cell_type": "markdown",
   "id": "5e557316",
   "metadata": {},
   "source": [
    "# Ejercicio 1\n",
    "\n",
    "1. **¿Qué son los stocks (reservas) y los flujos en la dinámica de sistemas?**\n",
    "\n",
    "En dinámica de sistemas, los stocks (o reservas) son las cantidades acumuladas que se mantienen en el tiempo. Representan el estado del sistema en un momento dado. Los flujos, por otro lado, son los procesos que añaden o quitan cantidad a esas reservas. Los flujos determinan cómo cambian los stocks con el tiempo.\n",
    "\n",
    "**Ejemplo (modelado de pandemias):**\n",
    "Durante la pandemia de COVID-19, un ejemplo de stock sería la cantidad de \"Personas Infectadas\". Los flujos serían las \"Nuevas Infecciones\" (que incrementan el stock) y las \"Recuperaciones\" o \"Muertes\" (que lo disminuyen).\n",
    "\n",
    "2. **Diferencia entre ciclos de retroalimentación de equilibrio (negativos) y de refuerzo (positivos)**\n",
    "   Los bucles de retroalimentación de equilibrio (negativos) tienden a estabilizar el sistema, contrarrestando los cambios. En cambio, los bucles de retroalimentación de refuerzo (positivos) amplifican los cambios, haciendo que el sistema crezca o decrezca de forma acelerada.\n",
    "\n",
    "- **Ejemplo de retroalimentación positiva (refuerzo)**:\n",
    "  Durante la COVID-19, un aumento en el número de infectados lleva a más contactos con personas sanas, lo que genera más contagios. Esto a su vez incrementa aún más el número de infectados. Es un ciclo de crecimiento exponencial.\n",
    "\n",
    "- **Ejemplo de retroalimentación negativa (equilibrio):**\n",
    "  Si el número de casos sube, los gobiernos imponen restricciones (confinamientos, uso de mascarillas), lo que reduce los contagios. Esto es un mecanismo de corrección que busca estabilizar la situación.\n",
    "\n",
    "3. **¿Por qué las ecuaciones diferenciales son fundamentales en dinámica de sistemas?**\n",
    "\n",
    "Las ecuaciones diferenciales permiten modelar cómo cambian las variables de un sistema a lo largo del tiempo, basándose en sus tasas de cambio. Son fundamentales porque reflejan el comportamiento dinámico de los stocks y flujos, lo que es clave en sistemas complejos.\n",
    "\n",
    "Donde las ecuaciones capturan la no linealidad porque pueden incorporar dependencias no lineales entre variables. Por ejemplo, el número de nuevas infecciones puede depender no solo de cuántas personas están infectadas, sino también de cuán densamente poblada está una zona o de si hay medidas de prevención. Esto produce comportamientos no proporcionales, como picos o colapsos súbitos en el sistema.\n",
    "\n",
    "4. **Dibuje un diagrama de bucle causal para la ocupación de camas hospitalarias durante una pandemia. Etiquete las reservas (p. ej., \"Pacientes de UCI\"), los flujos (p. ej. \"Admisiones\") y los bucles de retroalimentación (p. ej., \"Hacinamiento → Estancias más prolongadas → Disponibilidad reducida de camas\").**\n",
    "\n",
    "![Respuesta de la cuarta pregunta](Imagen1.jpg)\n",
    "\n",
    "Las admisiones aumentan la cantidad de pacientes en UCI.\n",
    "\n",
    "Cuando hay exceso de pacientes en UCI, el hospital se llena, generando hacinamiento.\n",
    "\n",
    "El hacinamiento hace que los pacientes tarden más tiempo en recuperarse y causan estancias prolongadas.\n",
    "\n",
    "Si los pacientes se quedan más tiempo, hay menos camas disponibles para nuevos pacientes.\n",
    "\n",
    "Con menos camas libres, el hospital tiene que limitar las admisiones de nuevos pacientes.\n",
    "\n",
    "A medida que algunos pacientes son dados de altas, se liberan camas y se reduce la ocupación."
   ]
  },
  {
   "cell_type": "markdown",
   "id": "0765459e",
   "metadata": {},
   "source": [
    "# Ejercicio 2\n",
    "\n",
    "1. **¿Qué es un agente en el modelo ABM? ¿En qué se diferencia de un \"stock\" en la dinámica de sistemas?**\n",
    "\n",
    "Un agente en un modelo basado en agentes (ABM) es una entidad autónoma que toma decisiones y actúa según reglas específicas. Estos agentes pueden representar individuos, organizaciones o cualquier unidad con comportamiento propio. En cambio, en la dinámica de sistemas, un \"stock\" representa una acumulación o reserva de recursos, como población o capital, y su cambio se modela mediante flujos. Donde la principal diferencia radica en que los agentes tienen comportamientos individuales y pueden interactuar entre sí, mientras que los stocks son variables agregadas que cambian de manera continua y determinista.\n",
    "\n",
    "2. **Describa cómo se representa la heterogeneidad (p. ej., edad, ingresos) en el ABM en comparación con la dinámica de sistemas.**\n",
    "\n",
    "En el ABM, la heterogeneidad se incorpora asignando características específicas a cada agente, como edad, ingresos o preferencias. Esto permite simular comportamientos diversos y observar cómo las diferencias individuales afectan al sistema en su conjunto. Por otro lado, en la dinámica de sistemas, se suelen utilizar variables promedio o agregadas, lo que puede ocultar las variaciones individuales y limitar el análisis de comportamientos diferenciados.\n",
    "\n",
    "3. **¿Por qué el ABM suele ser estocástico? ¿Cómo afecta esto a la interpretación del modelo?**\n",
    "\n",
    "El ABM es frecuentemente estocástico porque incorpora elementos de aleatoriedad para reflejar la incertidumbre y la variabilidad inherente al comportamiento humano y a las interacciones sociales. Esta aleatoriedad permite explorar una gama más amplia de posibles resultados y entender mejor la dinámica del sistema. Sin embargo, también implica que los resultados pueden variar entre simulaciones, por lo que es importante realizar múltiples ejecuciones y analizar patrones emergentes en lugar de confiar en una única predicción.\n",
    "\n",
    "4. **Imagine modelar una campaña de vacunación. Compare cómo la dinámica de sistemas (compartimentos agregados) y el análisis de mercado (agentes individuales) representarían la reticencia a la vacunación. ¿Qué enfoque captura mejor las redes sociales?**\n",
    "\n",
    "Si modelara una campaña de vacunación, la dinámica de sistemas representaría la reticencia mediante tasas de transición entre compartimentos (por ejemplo, de susceptibles a vacunados), basadas en promedios poblacionales. En contraste, el ABM permitiría modelar a cada individuo con sus propias creencias, influencias sociales y decisiones, capturando la complejidad de la reticencia a nivel micro. Dado que las redes sociales influyen significativamente en las decisiones de vacunación, el ABM es más adecuado para capturar estas interacciones y entender cómo la información y las opiniones se propagan entre individuos.\n"
   ]
  },
  {
   "cell_type": "markdown",
   "id": "872a1df0",
   "metadata": {},
   "source": [
    "# Ejercicio 3\n"
   ]
  },
  {
   "cell_type": "code",
   "execution_count": null,
   "id": "c914a161",
   "metadata": {
    "vscode": {
     "languageId": "plaintext"
    }
   },
   "outputs": [],
   "source": []
  },
  {
   "cell_type": "markdown",
   "id": "6f7062f6",
   "metadata": {},
   "source": [
    "## Referencias\n",
    "\n",
    "Modelado basado en agentes  exploracion de sistemas complejos con simulacion de modelos basados  en agentes - FasterCapital. (s. f.). FasterCapital. https://fastercapital.com/es/contenido/Modelado-basado-en-agentes--exploracion-de-sistemas-complejos-con-simulacion-de-modelos-basados---en-agentes.html\n"
   ]
  }
 ],
 "metadata": {
  "language_info": {
   "name": "python"
  }
 },
 "nbformat": 4,
 "nbformat_minor": 5
}
