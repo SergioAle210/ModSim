{
 "cells": [
  {
   "cell_type": "markdown",
   "id": "5e557316",
   "metadata": {},
   "source": [
    "# Ejercicio 1\n",
    "\n",
    "1. **¿Qué son los stocks (reservas) y los flujos en la dinámica de sistemas?**\n",
    "\n",
    "En dinámica de sistemas, los stocks (o reservas) son las cantidades acumuladas que se mantienen en el tiempo. Representan el estado del sistema en un momento dado. Los flujos, por otro lado, son los procesos que añaden o quitan cantidad a esas reservas. Los flujos determinan cómo cambian los stocks con el tiempo.\n",
    "\n",
    "**Ejemplo (modelado de pandemias):**\n",
    "Durante la pandemia de COVID-19, un ejemplo de stock sería la cantidad de \"Personas Infectadas\". Los flujos serían las \"Nuevas Infecciones\" (que incrementan el stock) y las \"Recuperaciones\" o \"Muertes\" (que lo disminuyen).\n",
    "\n",
    "2. **Diferencia entre ciclos de retroalimentación de equilibrio (negativos) y de refuerzo (positivos)**\n",
    "   Los bucles de retroalimentación de equilibrio (negativos) tienden a estabilizar el sistema, contrarrestando los cambios. En cambio, los bucles de retroalimentación de refuerzo (positivos) amplifican los cambios, haciendo que el sistema crezca o decrezca de forma acelerada.\n",
    "\n",
    "- **Ejemplo de retroalimentación positiva (refuerzo)**:\n",
    "  Durante la COVID-19, un aumento en el número de infectados lleva a más contactos con personas sanas, lo que genera más contagios. Esto a su vez incrementa aún más el número de infectados. Es un ciclo de crecimiento exponencial.\n",
    "\n",
    "- **Ejemplo de retroalimentación negativa (equilibrio):**\n",
    "  Si el número de casos sube, los gobiernos imponen restricciones (confinamientos, uso de mascarillas), lo que reduce los contagios. Esto es un mecanismo de corrección que busca estabilizar la situación.\n",
    "\n",
    "3. **¿Por qué las ecuaciones diferenciales son fundamentales en dinámica de sistemas?**\n",
    "\n",
    "Las ecuaciones diferenciales permiten modelar cómo cambian las variables de un sistema a lo largo del tiempo, basándose en sus tasas de cambio. Son fundamentales porque reflejan el comportamiento dinámico de los stocks y flujos, lo que es clave en sistemas complejos.\n",
    "\n",
    "Donde las ecuaciones capturan la no linealidad porque pueden incorporar dependencias no lineales entre variables. Por ejemplo, el número de nuevas infecciones puede depender no solo de cuántas personas están infectadas, sino también de cuán densamente poblada está una zona o de si hay medidas de prevención. Esto produce comportamientos no proporcionales, como picos o colapsos súbitos en el sistema.\n",
    "\n",
    "4. Dibuje un diagrama de bucle causal para la ocupación de camas hospitalarias durante una pandemia. Etiquete las reservas (p. ej., \"Pacientes de UCI\"), los flujos (p. ej., \"Admisiones\") y los bucles de retroalimentación (p. ej., \"Hacinamiento → Estancias más prolongadas → Disponibilidad reducida de\n",
    "   camas\").\n"
   ]
  }
 ],
 "metadata": {
  "language_info": {
   "name": "python"
  }
 },
 "nbformat": 4,
 "nbformat_minor": 5
}
